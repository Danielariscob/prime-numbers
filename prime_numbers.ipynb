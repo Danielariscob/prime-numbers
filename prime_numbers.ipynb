{
 "cells": [
  {
   "cell_type": "code",
   "execution_count": 1,
   "id": "5bc07244-a767-4735-8fe5-95e7f482b1e5",
   "metadata": {},
   "outputs": [],
   "source": [
    "import math"
   ]
  },
  {
   "cell_type": "code",
   "execution_count": 2,
   "id": "d6e9b640-91fd-4c5f-a233-2ce28c0e585e",
   "metadata": {},
   "outputs": [],
   "source": [
    "def is_prime(n):\n",
    "    \"\"\"Check if a number is prime.\"\"\"\n",
    "    if n < 2:\n",
    "        return False\n",
    "    if n in (2, 3):\n",
    "        return True\n",
    "    if n % 2 == 0 or n % 3 == 0:\n",
    "        return False\n",
    "    i = 5\n",
    "    while i * i <= n:\n",
    "        if n % i == 0 or n % (i + 2) == 0:\n",
    "            return False\n",
    "        i += 6\n",
    "    return True"
   ]
  },
  {
   "cell_type": "code",
   "execution_count": 3,
   "id": "38e13bb9-4af0-4b26-ab6d-2c0ac2ddd0b3",
   "metadata": {},
   "outputs": [],
   "source": [
    "def count_primes_in_range(start, end):\n",
    "    \"\"\"Count the number of prime numbers in a given range.\"\"\"\n",
    "    count = 0\n",
    "    for num in range(start, end + 1):\n",
    "        if is_prime(num):\n",
    "            count += 1\n",
    "    return count"
   ]
  },
  {
   "cell_type": "code",
   "execution_count": 4,
   "id": "df96ec38-bd3f-4e17-acb5-6b38f5a6147b",
   "metadata": {},
   "outputs": [],
   "source": [
    "def sieve_of_eratosthenes(limit):\n",
    "    \"\"\"Use the Sieve of Eratosthenes to find all primes up to a given limit.\"\"\"\n",
    "    primes = [True] * (limit + 1)\n",
    "    primes[0] = primes[1] = False\n",
    "    for start in range(2, int(math.sqrt(limit)) + 1):\n",
    "        if primes[start]:\n",
    "            for multiple in range(start * start, limit + 1, start):\n",
    "                primes[multiple] = False\n",
    "    return [num for num, is_prime in enumerate(primes) if is_prime]"
   ]
  },
  {
   "cell_type": "code",
   "execution_count": 6,
   "id": "dd685143-7aeb-4792-8d18-c0de3fb334ab",
   "metadata": {},
   "outputs": [
    {
     "name": "stdout",
     "output_type": "stream",
     "text": [
      "Is 29 prime? True\n",
      "Number of primes between 10 and 50: 11\n",
      "Primes up to 50: [2, 3, 5, 7, 11, 13, 17, 19, 23, 29, 31, 37, 41, 43, 47]\n"
     ]
    }
   ],
   "source": [
    "#Example\n",
    "print(\"Is 29 prime?\", is_prime(29))\n",
    "print(\"Number of primes between 10 and 50:\", count_primes_in_range(10, 50))\n",
    "print(\"Primes up to 50:\", sieve_of_eratosthenes(50))"
   ]
  }
 ],
 "metadata": {
  "kernelspec": {
   "display_name": "Python 3 (ipykernel)",
   "language": "python",
   "name": "python3"
  },
  "language_info": {
   "codemirror_mode": {
    "name": "ipython",
    "version": 3
   },
   "file_extension": ".py",
   "mimetype": "text/x-python",
   "name": "python",
   "nbconvert_exporter": "python",
   "pygments_lexer": "ipython3",
   "version": "3.12.4"
  }
 },
 "nbformat": 4,
 "nbformat_minor": 5
}
